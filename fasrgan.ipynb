{
 "cells": [
  {
   "cell_type": "code",
   "execution_count": null,
   "id": "3de78cc3",
   "metadata": {
    "_cell_guid": "b1076dfc-b9ad-4769-8c92-a6c4dae69d19",
    "_uuid": "8f2839f25d086af736a60e9eeb907d3b93b6e0e5",
    "execution": {
     "iopub.execute_input": "2022-07-29T14:45:48.792880Z",
     "iopub.status.busy": "2022-07-29T14:45:48.791280Z",
     "iopub.status.idle": "2022-07-29T14:46:11.277359Z",
     "shell.execute_reply": "2022-07-29T14:46:11.277860Z"
    },
    "papermill": {
     "duration": 22.534371,
     "end_time": "2022-07-29T14:46:11.278136",
     "exception": false,
     "start_time": "2022-07-29T14:45:48.743765",
     "status": "completed"
    },
    "tags": []
   },
   "outputs": [],
   "source": [
    "# This Python 3 environment comes with many helpful analytics libraries installed\n",
    "# It is defined by the kaggle/python Docker image: https://github.com/kaggle/docker-python\n",
    "# For example, here's several helpful packages to load\n",
    "!pip install lpips\n",
    "\n",
    "import numpy as np # linear algebra\n",
    "import pandas as pd # data processing, CSV file I/O (e.g. pd.read_csv)\n",
    "\n",
    "# Input data files are available in the read-only \"../input/\" directory\n",
    "# For example, running this (by clicking run or pressing Shift+Enter) will list all files under the input directory\n",
    "\n",
    "import os\n",
    "for dirname, _, filenames in os.walk('/kaggle/input'):\n",
    "    for filename in filenames:\n",
    "        pass\n",
    "        #print(os.path.join(dirname, filename))\n",
    "\n",
    "# You can write up to 20GB to the current directory (/kaggle/working/) that gets preserved as output when you create a version using \"Save & Run All\" \n",
    "# You can also write temporary files to /kaggle/temp/, but they won't be saved outside of the current session\n",
    "import os\n",
    "import numpy as np\n",
    "import math\n",
    "import itertools\n",
    "import sys\n",
    "import glob\n",
    "import random\n",
    "import time\n",
    "\n",
    "import torchvision\n",
    "import torchvision.transforms as transforms\n",
    "from torchvision.utils import save_image, make_grid\n",
    "from torchvision.models import vgg19\n",
    "\n",
    "from torch.utils.data import DataLoader, Dataset, random_split\n",
    "from torch.autograd import Variable\n",
    "\n",
    "\n",
    "import torch.nn.init as init\n",
    "import torch.nn as nn\n",
    "import torch.nn.functional as F\n",
    "import torch \n",
    "\n",
    "from PIL import Image\n",
    "from pathlib import Path\n",
    "import matplotlib.pyplot as plt\n",
    "from math import sqrt\n",
    "from datasets import load_dataset\n",
    "\n",
    "import lpips\n",
    "\n",
    "'''\n",
    "!pip install GPUtil\n",
    "\n",
    "import torch\n",
    "from GPUtil import showUtilization as gpu_usage\n",
    "from numba import cuda\n",
    "\n",
    "def free_gpu_cache():\n",
    "    print(\"Initial GPU Usage\")\n",
    "    gpu_usage()                             \n",
    "\n",
    "    torch.cuda.empty_cache()\n",
    "\n",
    "    cuda.select_device(0)\n",
    "    cuda.close()\n",
    "    cuda.select_device(0)\n",
    "\n",
    "    print(\"GPU Usage after emptying the cache\")\n",
    "    gpu_usage()\n",
    "\n",
    "free_gpu_cache()  \n",
    "'''"
   ]
  },
  {
   "cell_type": "code",
   "execution_count": null,
   "id": "dfb4c47f",
   "metadata": {
    "execution": {
     "iopub.execute_input": "2022-07-29T14:46:11.374785Z",
     "iopub.status.busy": "2022-07-29T14:46:11.374007Z",
     "iopub.status.idle": "2022-07-29T14:46:12.103310Z",
     "shell.execute_reply": "2022-07-29T14:46:12.102746Z"
    },
    "papermill": {
     "duration": 0.778693,
     "end_time": "2022-07-29T14:46:12.103462",
     "exception": false,
     "start_time": "2022-07-29T14:46:11.324769",
     "status": "completed"
    },
    "tags": []
   },
   "outputs": [],
   "source": [
    "from kaggle_datasets import KaggleDatasets\n",
    "GCS_PATH = KaggleDatasets().get_gcs_path('div2k-high-resolution-images')"
   ]
  },
  {
   "cell_type": "code",
   "execution_count": null,
   "id": "474c6a01",
   "metadata": {
    "execution": {
     "iopub.execute_input": "2022-07-29T14:46:12.201976Z",
     "iopub.status.busy": "2022-07-29T14:46:12.201395Z",
     "iopub.status.idle": "2022-07-29T14:46:12.205779Z",
     "shell.execute_reply": "2022-07-29T14:46:12.206273Z"
    },
    "papermill": {
     "duration": 0.056038,
     "end_time": "2022-07-29T14:46:12.206421",
     "exception": false,
     "start_time": "2022-07-29T14:46:12.150383",
     "status": "completed"
    },
    "tags": []
   },
   "outputs": [],
   "source": [
    "GCS_PATH"
   ]
  },
  {
   "cell_type": "code",
   "execution_count": null,
   "id": "87b4350b",
   "metadata": {
    "execution": {
     "iopub.execute_input": "2022-07-29T14:46:12.304878Z",
     "iopub.status.busy": "2022-07-29T14:46:12.304062Z",
     "iopub.status.idle": "2022-07-29T14:46:20.963554Z",
     "shell.execute_reply": "2022-07-29T14:46:20.962960Z"
    },
    "papermill": {
     "duration": 8.710307,
     "end_time": "2022-07-29T14:46:20.963699",
     "exception": false,
     "start_time": "2022-07-29T14:46:12.253392",
     "status": "completed"
    },
    "tags": []
   },
   "outputs": [],
   "source": [
    "!pip install datasets"
   ]
  },
  {
   "cell_type": "code",
   "execution_count": null,
   "id": "62f9a414",
   "metadata": {
    "execution": {
     "iopub.execute_input": "2022-07-29T14:46:21.081709Z",
     "iopub.status.busy": "2022-07-29T14:46:21.080885Z",
     "iopub.status.idle": "2022-07-29T14:46:21.083421Z",
     "shell.execute_reply": "2022-07-29T14:46:21.082954Z"
    },
    "papermill": {
     "duration": 0.066977,
     "end_time": "2022-07-29T14:46:21.083539",
     "exception": false,
     "start_time": "2022-07-29T14:46:21.016562",
     "status": "completed"
    },
    "tags": []
   },
   "outputs": [],
   "source": [
    "#dataset\n",
    "\n",
    "\n",
    "# Normalization parameters for pre-trained PyTorch models\n",
    "mean = np.array([0.485, 0.456, 0.406])\n",
    "std = np.array([0.229, 0.224, 0.225])\n",
    "\n",
    "\n",
    "def denormalize(tensors):\n",
    "    \"\"\" Denormalizes image tensors using mean and std \"\"\"\n",
    "    for c in range(3):\n",
    "        tensors[:, c].mul_(std[c]).add_(mean[c])\n",
    "    return torch.clamp(tensors, 0, 255)\n",
    "\n",
    "\n",
    "class ImageDataset(Dataset):\n",
    "    def __init__(self, root, hr_shape, split=\"train\"):\n",
    "        hr_height, hr_width = hr_shape\n",
    "        # Transforms for low resolution images and high resolution images\n",
    "        self.lr_transform = transforms.Compose(\n",
    "            [\n",
    "                transforms.Resize((hr_height // 4, hr_height // 4), Image.BICUBIC),\n",
    "                transforms.ToTensor(),\n",
    "                #transforms.Normalize(mean, std),\n",
    "            ]\n",
    "        )\n",
    "        self.hr_transform = transforms.Compose(\n",
    "            [\n",
    "                transforms.Resize((hr_height, hr_height), Image.BICUBIC),\n",
    "                transforms.ToTensor(),\n",
    "                #transforms.Normalize(mean, std),\n",
    "            ]\n",
    "        )\n",
    "        print(root + \"/*.*\")\n",
    "        self.files = sorted(glob.glob(root + \"/*.*\"))\n",
    "\n",
    "    def __getitem__(self, index):\n",
    "        img = Image.open(self.files[index % len(self.files)])\n",
    "        img_lr = self.lr_transform(img)\n",
    "        img_hr = self.hr_transform(img)\n",
    "\n",
    "        return {\"lr\": img_lr, \"hr\": img_hr}\n",
    "\n",
    "    def __len__(self):\n",
    "        return len(self.files)"
   ]
  },
  {
   "cell_type": "code",
   "execution_count": null,
   "id": "6b258d93",
   "metadata": {
    "execution": {
     "iopub.execute_input": "2022-07-29T14:46:21.194464Z",
     "iopub.status.busy": "2022-07-29T14:46:21.193712Z",
     "iopub.status.idle": "2022-07-29T14:46:21.196322Z",
     "shell.execute_reply": "2022-07-29T14:46:21.195846Z"
    },
    "papermill": {
     "duration": 0.062362,
     "end_time": "2022-07-29T14:46:21.196440",
     "exception": false,
     "start_time": "2022-07-29T14:46:21.134078",
     "status": "completed"
    },
    "tags": []
   },
   "outputs": [],
   "source": [
    "class RFAB(nn.Module):\n",
    "    \"\"\"\n",
    "    The core module of paper: (Residual Dense Network for Image Super-Resolution, CVPR 18)\n",
    "    \"\"\"\n",
    "\n",
    "    def __init__(self, filters, res_scale=0.2):\n",
    "        super(RFAB, self).__init__()\n",
    "        self.res_scale = res_scale\n",
    "        layers = [nn.Conv2d(filters, filters, 3, 1, 1, bias=True),\n",
    "                  nn.LeakyReLU(),\n",
    "                  nn.Conv2d(filters, filters, 3, 1, 1, bias=True)]\n",
    "        self.model = nn.Sequential(*layers)\n",
    "        self.FAB = nn.Sequential(*[\n",
    "            nn.AdaptiveAvgPool2d((1,1)),\n",
    "            nn.Conv2d(filters, filters, 3, 1, 1, bias=True),\n",
    "            nn.LeakyReLU(),\n",
    "            nn.Conv2d(filters, filters, 3, 1, 1, bias=True),\n",
    "            nn.Sigmoid()\n",
    "        ])\n",
    "\n",
    "    def forward(self, x):\n",
    "        inputs = x\n",
    "        out = self.model(inputs)\n",
    "        out1 = self.FAB(out)\n",
    "        out_from_FAB = out1.mul(out)\n",
    "        return out_from_FAB.mul(self.res_scale) + x"
   ]
  },
  {
   "cell_type": "code",
   "execution_count": null,
   "id": "281aab97",
   "metadata": {
    "execution": {
     "iopub.execute_input": "2022-07-29T14:46:21.314058Z",
     "iopub.status.busy": "2022-07-29T14:46:21.307189Z",
     "iopub.status.idle": "2022-07-29T14:46:21.316688Z",
     "shell.execute_reply": "2022-07-29T14:46:21.316192Z"
    },
    "papermill": {
     "duration": 0.068257,
     "end_time": "2022-07-29T14:46:21.316809",
     "exception": false,
     "start_time": "2022-07-29T14:46:21.248552",
     "status": "completed"
    },
    "tags": []
   },
   "outputs": [],
   "source": [
    "#model\n",
    "\n",
    "class FeatureExtractor(nn.Module):\n",
    "    def __init__(self):\n",
    "        super(FeatureExtractor, self).__init__()\n",
    "        vgg19_model = vgg19(pretrained=True)\n",
    "        self.vgg19_54 = nn.Sequential(*list(vgg19_model.features.children())[:35])\n",
    "\n",
    "    def forward(self, img):\n",
    "        return self.vgg19_54(img)\n",
    "\n",
    "\n",
    "class DenseResidualBlock(nn.Module):\n",
    "    \"\"\"\n",
    "    The core module of paper: (Residual Dense Network for Image Super-Resolution, CVPR 18)\n",
    "    \"\"\"\n",
    "\n",
    "    def __init__(self, filters, res_scale=0.2):\n",
    "        super(DenseResidualBlock, self).__init__()\n",
    "        self.res_scale = res_scale\n",
    "\n",
    "        def block(in_features, non_linearity=True):\n",
    "            layers = [nn.Conv2d(in_features, filters, 3, 1, 1, bias=True)]\n",
    "            if non_linearity:\n",
    "                layers += [nn.LeakyReLU()]\n",
    "            return nn.Sequential(*layers)\n",
    "\n",
    "        self.b1 = block(in_features=1 * filters)\n",
    "        self.b2 = block(in_features=2 * filters)\n",
    "        self.b3 = block(in_features=3 * filters)\n",
    "        self.b4 = block(in_features=4 * filters)\n",
    "        self.b5 = block(in_features=5 * filters, non_linearity=False)\n",
    "        self.blocks = [self.b1, self.b2, self.b3, self.b4, self.b5]\n",
    "\n",
    "    def forward(self, x):\n",
    "        inputs = x\n",
    "        for block in self.blocks:\n",
    "            out = block(inputs)\n",
    "            inputs = torch.cat([inputs, out], 1)\n",
    "        return out.mul(self.res_scale) + x\n",
    "\n",
    "\n",
    "class ResidualInResidualDenseBlock(nn.Module):\n",
    "    def __init__(self, filters, res_scale=0.2):\n",
    "        super(ResidualInResidualDenseBlock, self).__init__()\n",
    "        self.res_scale = res_scale\n",
    "        self.dense_blocks = nn.Sequential(\n",
    "            RFAB(filters), RFAB(filters), RFAB(filters)\n",
    "        )\n",
    "\n",
    "    def forward(self, x):\n",
    "        return self.dense_blocks(x).mul(self.res_scale) + x"
   ]
  },
  {
   "cell_type": "code",
   "execution_count": null,
   "id": "1ebde373",
   "metadata": {
    "execution": {
     "iopub.execute_input": "2022-07-29T14:46:21.433548Z",
     "iopub.status.busy": "2022-07-29T14:46:21.426966Z",
     "iopub.status.idle": "2022-07-29T14:46:21.435980Z",
     "shell.execute_reply": "2022-07-29T14:46:21.435520Z"
    },
    "papermill": {
     "duration": 0.068481,
     "end_time": "2022-07-29T14:46:21.436097",
     "exception": false,
     "start_time": "2022-07-29T14:46:21.367616",
     "status": "completed"
    },
    "tags": []
   },
   "outputs": [],
   "source": [
    "class GeneratorRRDB(nn.Module):\n",
    "    def __init__(self, channels, filters=64, num_res_blocks=16, num_upsample=2):\n",
    "        super(GeneratorRRDB, self).__init__()\n",
    "\n",
    "        # First layer\n",
    "        self.conv1 = nn.Conv2d(channels, filters, kernel_size=3, stride=1, padding=1)\n",
    "        # Residual blocks\n",
    "        self.res_blocks = nn.Sequential(*[ResidualInResidualDenseBlock(filters) for _ in range(num_res_blocks)])\n",
    "        # Second conv layer post residual blocks\n",
    "        self.conv2 = nn.Conv2d(filters, filters, kernel_size=3, stride=1, padding=1)\n",
    "        # Upsampling layers\n",
    "        upsample_layers = [\n",
    "            nn.Conv2d(filters, filters * (2 ** (num_upsample)), kernel_size=3, stride=1, padding=1),\n",
    "            nn.LeakyReLU(),\n",
    "        ]\n",
    "        for i in range(num_upsample):\n",
    "            mult = 2 ** (num_upsample - i)\n",
    "            print(filters * mult, int(filters * mult / 2))\n",
    "            upsample_layers += [\n",
    "                nn.Upsample(scale_factor = 2, mode='nearest'),\n",
    "                nn.Conv2d(filters * mult, int(filters * mult / 2),\n",
    "                            kernel_size=3, stride=1, padding=1),\n",
    "            ]\n",
    "        \n",
    "        \n",
    "        self.upsampling = nn.Sequential(*upsample_layers)\n",
    "        # Final output block\n",
    "        # ORIGINAL\n",
    "#         self.conv3 = nn.Sequential(\n",
    "#             nn.Conv2d(filters, filters, kernel_size=3, stride=1, padding=1),\n",
    "#             nn.LeakyReLU(),\n",
    "#             nn.Conv2d(filters, channels, kernel_size=3, stride=1, padding=1),\n",
    "#         )\n",
    "#       # Exp 1\n",
    "        self.conv3 = nn.Sequential(\n",
    "            nn.Upsample(scale_factor = 1, mode='nearest'),\n",
    "            nn.ReflectionPad2d(1),\n",
    "            nn.Conv2d(filters, filters, kernel_size=3, stride=1, padding=0),\n",
    "            nn.LeakyReLU(),\n",
    "            #nn.Upsample(scale_factor = 1, mode='nearest'),\n",
    "            #nn.ReflectionPad2d(1),\n",
    "            nn.Conv2d(filters, channels, kernel_size=3, stride=1, padding=1),\n",
    "        )\n",
    "#         # Exp 2\n",
    "#         self.conv3 = nn.Sequential(\n",
    "#             nn.Conv2d(filters, filters, kernel_size=3, stride=1, padding=1),\n",
    "#             nn.LeakyReLU(),\n",
    "#             nn.Conv2d(filters, channels, kernel_size=3, stride=1, padding=1),\n",
    "            \n",
    "#             nn.Upsample(scale_factor = 1, mode='bilinear'),\n",
    "#             nn.ReflectionPad2d(1),\n",
    "#             nn.Conv2d(channels, channels, kernel_size=3, stride=1, padding=0),\n",
    "#         )\n",
    "#        # Exp 3\n",
    "#         self.conv3 = nn.Sequential(\n",
    "#             nn.Upsample(scale_factor = 1, mode='bilinear'),\n",
    "#             nn.ReflectionPad2d(1),\n",
    "#             nn.Conv2d(filters, channels, kernel_size=3, stride=1, padding=0),\n",
    "#         )\n",
    "        \n",
    "    def forward(self, x):\n",
    "        out1 = self.conv1(x)\n",
    "        out = self.res_blocks(out1)\n",
    "        out2 = self.conv2(out)\n",
    "        out = torch.add(out1, out2)\n",
    "        out = self.upsampling(out)\n",
    "        out = self.conv3(out)\n",
    "        return out"
   ]
  },
  {
   "cell_type": "code",
   "execution_count": null,
   "id": "88bdf9de",
   "metadata": {
    "execution": {
     "iopub.execute_input": "2022-07-29T14:46:21.551307Z",
     "iopub.status.busy": "2022-07-29T14:46:21.550560Z",
     "iopub.status.idle": "2022-07-29T14:46:21.553136Z",
     "shell.execute_reply": "2022-07-29T14:46:21.552685Z"
    },
    "papermill": {
     "duration": 0.06544,
     "end_time": "2022-07-29T14:46:21.553277",
     "exception": false,
     "start_time": "2022-07-29T14:46:21.487837",
     "status": "completed"
    },
    "tags": []
   },
   "outputs": [],
   "source": [
    "class Discriminator(nn.Module):\n",
    "    def __init__(self, input_shape):\n",
    "        super(Discriminator, self).__init__()\n",
    "\n",
    "        self.input_shape = input_shape\n",
    "        in_channels, in_height, in_width = self.input_shape\n",
    "        patch_h, patch_w = int(in_height / 2 ** 4), int(in_width / 2 ** 4)\n",
    "        self.output_shape = (1, patch_h, patch_w)\n",
    "\n",
    "        def discriminator_block(in_filters, out_filters, first_block=False):\n",
    "            layers = []\n",
    "            layers.append(nn.Conv2d(in_filters, out_filters, kernel_size=3, stride=1, padding=1))\n",
    "            if not first_block:\n",
    "                layers.append(nn.BatchNorm2d(out_filters))\n",
    "            layers.append(nn.LeakyReLU(0.2, inplace=True))\n",
    "            layers.append(nn.Conv2d(out_filters, out_filters, kernel_size=3, stride=2, padding=1))\n",
    "            layers.append(nn.BatchNorm2d(out_filters))\n",
    "            layers.append(nn.LeakyReLU(0.2, inplace=True))\n",
    "            return layers\n",
    "\n",
    "        layers = []\n",
    "        in_filters = in_channels\n",
    "        for i, out_filters in enumerate([64, 128, 256, 512]):\n",
    "            layers.extend(discriminator_block(in_filters, out_filters, first_block=(i == 0)))\n",
    "            in_filters = out_filters\n",
    "\n",
    "        layers.append(nn.Conv2d(out_filters, 1, kernel_size=3, stride=1, padding=1))\n",
    "\n",
    "        self.model = nn.Sequential(*layers)\n",
    "\n",
    "    def forward(self, img):\n",
    "        return self.model(img)"
   ]
  },
  {
   "cell_type": "code",
   "execution_count": null,
   "id": "af856fd1",
   "metadata": {
    "execution": {
     "iopub.execute_input": "2022-07-29T14:46:21.660836Z",
     "iopub.status.busy": "2022-07-29T14:46:21.660097Z",
     "iopub.status.idle": "2022-07-29T14:46:21.662726Z",
     "shell.execute_reply": "2022-07-29T14:46:21.662281Z"
    },
    "papermill": {
     "duration": 0.058381,
     "end_time": "2022-07-29T14:46:21.662840",
     "exception": false,
     "start_time": "2022-07-29T14:46:21.604459",
     "status": "completed"
    },
    "tags": []
   },
   "outputs": [],
   "source": [
    "opt = {\n",
    "    \"epoch\": 0,\n",
    "    \"n_epochs\": 3,\n",
    "    \"batch_size\": 1,\n",
    "    \"lr_g\": 0.00002,\n",
    "    \"lr_d\": 0.0009,\n",
    "    \"b1\": 0.9,\n",
    "    \"b2\": 0.999,\n",
    "    \"decay_epoch\": 50,\n",
    "    \"n_cpu\": 2,\n",
    "    \"hr_height\": 1024,\n",
    "    \"hr_width\": 1024,\n",
    "    \"channels\": 3,\n",
    "    \"sample_interval\": 100,\n",
    "    \"checkpoint_interval\": 2000,\n",
    "    \"residual_blocks\": 23,\n",
    "    \"warmup_batches\": 400,\n",
    "    \"lambda_adv\": 9e-3,\n",
    "    \"lambda_pixel\": 2e-2,\n",
    "}"
   ]
  },
  {
   "cell_type": "code",
   "execution_count": null,
   "id": "389ecd3a",
   "metadata": {
    "execution": {
     "iopub.execute_input": "2022-07-29T14:46:21.831212Z",
     "iopub.status.busy": "2022-07-29T14:46:21.829324Z",
     "iopub.status.idle": "2022-07-29T14:46:21.834083Z",
     "shell.execute_reply": "2022-07-29T14:46:21.834540Z"
    },
    "papermill": {
     "duration": 0.119467,
     "end_time": "2022-07-29T14:46:21.834689",
     "exception": false,
     "start_time": "2022-07-29T14:46:21.715222",
     "status": "completed"
    },
    "tags": []
   },
   "outputs": [],
   "source": [
    "device = torch.device(\"cuda\" if torch.cuda.is_available() else \"cpu\")\n",
    "hr_shape = (opt[\"hr_height\"], opt[\"hr_width\"])\n",
    "device"
   ]
  },
  {
   "cell_type": "code",
   "execution_count": null,
   "id": "d7e9d300",
   "metadata": {
    "execution": {
     "iopub.execute_input": "2022-07-29T14:46:21.947342Z",
     "iopub.status.busy": "2022-07-29T14:46:21.946704Z",
     "iopub.status.idle": "2022-07-29T14:46:56.105596Z",
     "shell.execute_reply": "2022-07-29T14:46:56.105023Z"
    },
    "papermill": {
     "duration": 34.217775,
     "end_time": "2022-07-29T14:46:56.105749",
     "exception": false,
     "start_time": "2022-07-29T14:46:21.887974",
     "status": "completed"
    },
    "tags": []
   },
   "outputs": [],
   "source": [
    "generator = GeneratorRRDB(opt[\"channels\"], filters=64, num_res_blocks=opt[\"residual_blocks\"]).to(device)\n",
    "discriminator = Discriminator(input_shape=(opt[\"channels\"], *hr_shape)).to(device)\n",
    "feature_extractor = FeatureExtractor().to(device)"
   ]
  },
  {
   "cell_type": "code",
   "execution_count": null,
   "id": "15103341",
   "metadata": {
    "execution": {
     "iopub.execute_input": "2022-07-29T14:46:56.217910Z",
     "iopub.status.busy": "2022-07-29T14:46:56.216961Z",
     "iopub.status.idle": "2022-07-29T14:46:56.219563Z",
     "shell.execute_reply": "2022-07-29T14:46:56.220076Z"
    },
    "papermill": {
     "duration": 0.060585,
     "end_time": "2022-07-29T14:46:56.220231",
     "exception": false,
     "start_time": "2022-07-29T14:46:56.159646",
     "status": "completed"
    },
    "tags": []
   },
   "outputs": [],
   "source": [
    "# print(discriminator)"
   ]
  },
  {
   "cell_type": "code",
   "execution_count": null,
   "id": "9f59f61a",
   "metadata": {
    "execution": {
     "iopub.execute_input": "2022-07-29T14:46:56.331660Z",
     "iopub.status.busy": "2022-07-29T14:46:56.330904Z",
     "iopub.status.idle": "2022-07-29T14:46:56.332979Z",
     "shell.execute_reply": "2022-07-29T14:46:56.333454Z"
    },
    "papermill": {
     "duration": 0.058896,
     "end_time": "2022-07-29T14:46:56.333590",
     "exception": false,
     "start_time": "2022-07-29T14:46:56.274694",
     "status": "completed"
    },
    "tags": []
   },
   "outputs": [],
   "source": [
    "# print(generator)"
   ]
  },
  {
   "cell_type": "markdown",
   "id": "cbd40502",
   "metadata": {
    "papermill": {
     "duration": 0.053855,
     "end_time": "2022-07-29T14:46:56.440776",
     "exception": false,
     "start_time": "2022-07-29T14:46:56.386921",
     "status": "completed"
    },
    "tags": []
   },
   "source": [
    "### Texture Loss"
   ]
  },
  {
   "cell_type": "code",
   "execution_count": null,
   "id": "9fc70c62",
   "metadata": {
    "execution": {
     "iopub.execute_input": "2022-07-29T14:46:56.568605Z",
     "iopub.status.busy": "2022-07-29T14:46:56.567693Z",
     "iopub.status.idle": "2022-07-29T14:46:56.569404Z",
     "shell.execute_reply": "2022-07-29T14:46:56.570199Z"
    },
    "papermill": {
     "duration": 0.075512,
     "end_time": "2022-07-29T14:46:56.570352",
     "exception": false,
     "start_time": "2022-07-29T14:46:56.494840",
     "status": "completed"
    },
    "tags": []
   },
   "outputs": [],
   "source": [
    "def gram_matrix(y):\n",
    "    (b, ch, h, w) = y.size()\n",
    "    features = y.view(b, ch, w * h)\n",
    "    features_t = features.transpose(1, 2)\n",
    "    gram = features.bmm(features_t) / (ch * h * w)\n",
    "    return gram\n",
    "\n",
    "class VGGTexture(nn.Module):\n",
    "    'Pretrained VGG-19 model features.'\n",
    "    def __init__(self, layers=(0), replace_pooling = False):\n",
    "        super(VGGTexture, self).__init__()\n",
    "        self.layers = layers\n",
    "        self.instance_normalization = nn.InstanceNorm2d(128)\n",
    "        self.relu = nn.ReLU()\n",
    "        self.model = vgg19(pretrained=True).features\n",
    "        # Changing Max Pooling to Average Pooling\n",
    "        if replace_pooling:\n",
    "            self.model._modules['4'] = nn.AvgPool2d((2,2), (2,2), (1,1))\n",
    "            self.model._modules['9'] = nn.AvgPool2d((2,2), (2,2), (1,1))\n",
    "            self.model._modules['18'] =nn.AvgPool2d((2,2), (2,2), (1,1))\n",
    "            self.model._modules['27'] =nn.AvgPool2d((2,2), (2,2), (1,1))\n",
    "            self.model._modules['36'] = nn.AvgPool2d((2,2), (2,2), (1,1))\n",
    "        for param in self.model.parameters():\n",
    "            param.requires_grad = False\n",
    "\n",
    "    def forward(self, x):\n",
    "        features = []\n",
    "        for name, layer in enumerate(self.model):\n",
    "            x = layer(x)\n",
    "            if name in self.layers:\n",
    "                features.append(x)\n",
    "                if len(features) == len(self.layers):\n",
    "                    break\n",
    "        return features"
   ]
  },
  {
   "cell_type": "code",
   "execution_count": null,
   "id": "04550b1f",
   "metadata": {
    "execution": {
     "iopub.execute_input": "2022-07-29T14:46:56.690685Z",
     "iopub.status.busy": "2022-07-29T14:46:56.689920Z",
     "iopub.status.idle": "2022-07-29T14:46:58.720417Z",
     "shell.execute_reply": "2022-07-29T14:46:58.721135Z"
    },
    "papermill": {
     "duration": 2.094233,
     "end_time": "2022-07-29T14:46:58.721365",
     "exception": false,
     "start_time": "2022-07-29T14:46:56.627132",
     "status": "completed"
    },
    "tags": []
   },
   "outputs": [],
   "source": [
    "from torch.autograd import Variable\n",
    "\n",
    "vgg_layers = [8, 17, 26, 35]\n",
    "vgg_texture = VGGTexture(layers=vgg_layers, replace_pooling = False).to(device)\n",
    "\n",
    "def to_variable(x):\n",
    "    x = x.to(device)\n",
    "    return Variable(x)\n",
    "\n",
    "def mse_texture(a, b):\n",
    "    return torch.mean(torch.abs((a-b)**2).view(-1))\n",
    "\n",
    "def TEXTURE_LOSS(data_fake, data_real):\n",
    "    text_loss = []\n",
    "\n",
    "    vgg_fake = vgg_texture.forward(data_fake)\n",
    "    vgg_real = vgg_texture.forward(data_real)\n",
    "    gram_fake = [gram_matrix(y) for y in vgg_fake]\n",
    "    gram_real = [gram_matrix(y) for y in vgg_real]\n",
    "    \n",
    "    for m in range(0, len(vgg_fake)):\n",
    "        text_loss += [mse_texture(gram_fake[m], gram_real[m])]\n",
    "    text_loss = sum(text_loss)\n",
    "    return text_loss"
   ]
  },
  {
   "cell_type": "code",
   "execution_count": null,
   "id": "639958ce",
   "metadata": {
    "execution": {
     "iopub.execute_input": "2022-07-29T14:46:58.882855Z",
     "iopub.status.busy": "2022-07-29T14:46:58.881849Z",
     "iopub.status.idle": "2022-07-29T14:46:58.884292Z",
     "shell.execute_reply": "2022-07-29T14:46:58.883589Z"
    },
    "papermill": {
     "duration": 0.086154,
     "end_time": "2022-07-29T14:46:58.884469",
     "exception": false,
     "start_time": "2022-07-29T14:46:58.798315",
     "status": "completed"
    },
    "tags": []
   },
   "outputs": [],
   "source": [
    "criterion_GAN = torch.nn.BCEWithLogitsLoss().to(device)\n",
    "criterion_content = torch.nn.L1Loss().to(device)\n",
    "criterion_pixel = torch.nn.L1Loss().to(device)\n",
    "criterion_texture = TEXTURE_LOSS"
   ]
  },
  {
   "cell_type": "code",
   "execution_count": null,
   "id": "ca7d2b67",
   "metadata": {
    "execution": {
     "iopub.execute_input": "2022-07-29T14:46:59.034920Z",
     "iopub.status.busy": "2022-07-29T14:46:59.033328Z",
     "iopub.status.idle": "2022-07-29T14:46:59.035594Z",
     "shell.execute_reply": "2022-07-29T14:46:59.036046Z"
    },
    "papermill": {
     "duration": 0.07641,
     "end_time": "2022-07-29T14:46:59.036204",
     "exception": false,
     "start_time": "2022-07-29T14:46:58.959794",
     "status": "completed"
    },
    "tags": []
   },
   "outputs": [],
   "source": [
    "optimizer_G = torch.optim.Adam(generator.parameters(), lr=opt[\"lr_g\"], betas=(opt[\"b1\"],opt[\"b2\"]))\n",
    "optimizer_D = torch.optim.Adam(discriminator.parameters(), lr=opt[\"lr_d\"], betas=(opt[\"b1\"], opt[\"b2\"]))"
   ]
  },
  {
   "cell_type": "code",
   "execution_count": null,
   "id": "525cafc4",
   "metadata": {
    "execution": {
     "iopub.execute_input": "2022-07-29T14:46:59.149365Z",
     "iopub.status.busy": "2022-07-29T14:46:59.148749Z",
     "iopub.status.idle": "2022-07-29T14:46:59.152338Z",
     "shell.execute_reply": "2022-07-29T14:46:59.151830Z"
    },
    "papermill": {
     "duration": 0.06135,
     "end_time": "2022-07-29T14:46:59.152471",
     "exception": false,
     "start_time": "2022-07-29T14:46:59.091121",
     "status": "completed"
    },
    "tags": []
   },
   "outputs": [],
   "source": [
    "set5_hr_path, set14_hr_path = \"../input/set5-sr/images\",\"../input/set14-sr/images\"\n",
    "\n",
    "train_path = \"../input/div2k-high-resolution-images/DIV2K_train_HR/DIV2K_train_HR\"\n",
    "# train_path = \"../input/div2k-bicubic-x4/DIV2K_train_LR_bicubic/X4\""
   ]
  },
  {
   "cell_type": "code",
   "execution_count": null,
   "id": "acbd4baa",
   "metadata": {
    "execution": {
     "iopub.execute_input": "2022-07-29T14:46:59.269110Z",
     "iopub.status.busy": "2022-07-29T14:46:59.268435Z",
     "iopub.status.idle": "2022-07-29T14:46:59.285191Z",
     "shell.execute_reply": "2022-07-29T14:46:59.285658Z"
    },
    "papermill": {
     "duration": 0.079029,
     "end_time": "2022-07-29T14:46:59.285790",
     "exception": false,
     "start_time": "2022-07-29T14:46:59.206761",
     "status": "completed"
    },
    "tags": []
   },
   "outputs": [],
   "source": [
    "Tensor = torch.cuda.FloatTensor if torch.cuda.is_available() else torch.Tensor\n",
    "img_dataset = ImageDataset(train_path, hr_shape=hr_shape)\n",
    "set_5_dataset = ImageDataset(set5_hr_path, hr_shape=hr_shape)\n",
    "set_14_dataset = ImageDataset(set14_hr_path, hr_shape=hr_shape)\n",
    "\n",
    "#train, test = random_split(img_dataset, [640, 160], generator=torch.Generator().manual_seed(42)) \n",
    "# numbers in above list are no of imgs in train and test (80-20) split of 800 files\n",
    "train_ds = DataLoader(\n",
    "    img_dataset, # train,\n",
    "    batch_size=opt[\"batch_size\"],\n",
    "    shuffle=True,\n",
    "    num_workers=opt[\"n_cpu\"],\n",
    ")\n",
    "'''\n",
    "test_ds = DataLoader(\n",
    "    test,\n",
    "    batch_size=opt[\"batch_size\"],\n",
    "    shuffle=True,\n",
    "    num_workers=opt[\"n_cpu\"],\n",
    ")\n",
    "'''\n",
    "set_5_ds =  DataLoader(\n",
    "    set_5_dataset,\n",
    "    batch_size=1,\n",
    "    shuffle=True,\n",
    "    num_workers=opt[\"n_cpu\"],\n",
    ")\n",
    "set_14_ds =  DataLoader(\n",
    "    set_14_dataset,\n",
    "    batch_size=1,\n",
    "    shuffle=True,\n",
    "    num_workers=opt[\"n_cpu\"],\n",
    ")"
   ]
  },
  {
   "cell_type": "code",
   "execution_count": null,
   "id": "d73ade31",
   "metadata": {
    "execution": {
     "iopub.execute_input": "2022-07-29T14:46:59.538089Z",
     "iopub.status.busy": "2022-07-29T14:46:59.537424Z",
     "iopub.status.idle": "2022-07-29T14:46:59.593054Z",
     "shell.execute_reply": "2022-07-29T14:46:59.592580Z"
    },
    "papermill": {
     "duration": 0.114435,
     "end_time": "2022-07-29T14:46:59.593196",
     "exception": false,
     "start_time": "2022-07-29T14:46:59.478761",
     "status": "completed"
    },
    "tags": []
   },
   "outputs": [],
   "source": [
    "PSNR_F = PSNR().cuda()\n",
    "SSIM_F = SSIM().cuda()"
   ]
  },
  {
   "cell_type": "code",
   "execution_count": null,
   "id": "8f785dea",
   "metadata": {
    "execution": {
     "iopub.execute_input": "2022-07-29T14:46:59.709864Z",
     "iopub.status.busy": "2022-07-29T14:46:59.709181Z",
     "iopub.status.idle": "2022-07-29T14:46:59.711851Z",
     "shell.execute_reply": "2022-07-29T14:46:59.712327Z",
     "shell.execute_reply.started": "2022-07-29T09:59:14.812776Z"
    },
    "papermill": {
     "duration": 0.063768,
     "end_time": "2022-07-29T14:46:59.712497",
     "exception": false,
     "start_time": "2022-07-29T14:46:59.648729",
     "status": "completed"
    },
    "tags": []
   },
   "outputs": [],
   "source": [
    "Path(\"./images/training\").mkdir(parents=True, exist_ok=True)\n",
    "Path(\"./saved_models\").mkdir(parents=True, exist_ok=True)\n",
    "Path(\"./images/testing_set5/\").mkdir(parents=True, exist_ok=True)\n",
    "Path(\"./images/testing_set14/\").mkdir(parents=True, exist_ok=True)"
   ]
  },
  {
   "cell_type": "code",
   "execution_count": null,
   "id": "2ef95c71",
   "metadata": {
    "execution": {
     "iopub.execute_input": "2022-07-29T14:46:59.849299Z",
     "iopub.status.busy": "2022-07-29T14:46:59.848382Z",
     "iopub.status.idle": "2022-07-29T14:46:59.850816Z",
     "shell.execute_reply": "2022-07-29T14:46:59.851364Z",
     "shell.execute_reply.started": "2022-07-29T09:59:15.732660Z"
    },
    "papermill": {
     "duration": 0.073673,
     "end_time": "2022-07-29T14:46:59.851525",
     "exception": false,
     "start_time": "2022-07-29T14:46:59.777852",
     "status": "completed"
    },
    "tags": []
   },
   "outputs": [],
   "source": [
    "# try:\n",
    "#     generator = GeneratorRRDB(opt[\"channels\"], filters=64, num_res_blocks=opt[\"residual_blocks\"]).to(device)\n",
    "#     generator.load_state_dict(torch.load(\"../input/xsrgan-generator/generator.pth\"))\n",
    "    \n",
    "#     discriminator = Discriminator(input_shape=(opt[\"channels\"], *hr_shape)).to(device)\n",
    "#     discriminator.load_state_dict(torch.load(\"../input/xsrgan-generator/discriminator.pth\"))\n",
    "# except:\n",
    "#     print(\"Failed to load saved models\")"
   ]
  },
  {
   "cell_type": "code",
   "execution_count": null,
   "id": "241d5b91",
   "metadata": {
    "execution": {
     "iopub.execute_input": "2022-07-29T14:46:59.990015Z",
     "iopub.status.busy": "2022-07-29T14:46:59.989215Z",
     "iopub.status.idle": "2022-07-29T16:05:02.380987Z",
     "shell.execute_reply": "2022-07-29T16:05:02.379975Z",
     "shell.execute_reply.started": "2022-07-29T09:59:16.356887Z"
    },
    "papermill": {
     "duration": 4682.469582,
     "end_time": "2022-07-29T16:05:02.381152",
     "exception": false,
     "start_time": "2022-07-29T14:46:59.911570",
     "status": "completed"
    },
    "scrolled": true,
    "tags": []
   },
   "outputs": [],
   "source": [
    "for epoch in range(opt[\"epoch\"], opt[\"n_epochs\"]):\n",
    "    for i, imgs in enumerate(train_ds):\n",
    "\n",
    "        batches_done = epoch * len(train_ds) + i\n",
    "\n",
    "        # Configure model input\n",
    "        imgs_lr = Variable(imgs[\"lr\"].type(Tensor))\n",
    "        imgs_hr = Variable(imgs[\"hr\"].type(Tensor))\n",
    "\n",
    "        # Adversarial ground truths\n",
    "        valid = Variable(Tensor(np.ones((imgs_lr.size(0), *discriminator.output_shape))), requires_grad=False)\n",
    "        fake = Variable(Tensor(np.zeros((imgs_lr.size(0), *discriminator.output_shape))), requires_grad=False)\n",
    "\n",
    "        # ------------------\n",
    "        #  Train Generators\n",
    "        # ------------------\n",
    "\n",
    "        optimizer_G.zero_grad()\n",
    "\n",
    "        # Generate a high resolution image from low resolution input\n",
    "        gen_hr = generator(imgs_lr)\n",
    "        # Measure pixel-wise loss against ground truth\n",
    "        loss_pixel = criterion_pixel(gen_hr, imgs_hr)\n",
    "        y_hat = torch.clone(gen_hr) #denormalize(gen_hr)\n",
    "        y = torch.clone(imgs_hr)    #denormalize(imgs_hr)\n",
    "        #calc psnr denormalize(imgs_hr)\n",
    "        psnr = PSNR_F(denormalize(y_hat), denormalize(y), 255)\n",
    "        ssim = SSIM_F(denormalize(y_hat), denormalize(y), 255)\n",
    "        \n",
    "        if batches_done < opt[\"warmup_batches\"]:\n",
    "            # Warm-up (pixel-wise loss only)\n",
    "            loss_pixel.backward()\n",
    "            optimizer_G.step()\n",
    "            print(\n",
    "                \"[Epoch {}/{}] [Batch {}/{}] [G pixel: {}]\".format(epoch, opt[\"n_epochs\"], i, len(train_ds), loss_pixel.item())\n",
    "            )\n",
    "            continue\n",
    "\n",
    "        # Extract validity predictions from discriminator\n",
    "        pred_real = discriminator(imgs_hr).detach()\n",
    "        pred_fake = discriminator(gen_hr)\n",
    "\n",
    "        # Adversarial loss (relativistic average GAN)\n",
    "        loss_GAN = criterion_GAN(pred_fake - pred_real.mean(0, keepdim=True), valid)\n",
    "\n",
    "        # Content loss\n",
    "        gen_features = feature_extractor(gen_hr)\n",
    "        real_features = feature_extractor(imgs_hr).detach()\n",
    "        loss_content = criterion_content(gen_features, real_features)\n",
    "\n",
    "        # Texture loss\n",
    "        loss_texture = criterion_texture(gen_hr, imgs_hr) #fake, real\n",
    "        \n",
    "        # In TSRGAN loss_G = loss_pixel + loss_texture + (a*loss_adverserial) + (b*loss_content)\n",
    "        # loss_pixel is loss_perceptual\n",
    "        \n",
    "        # Total generator loss (Original)\n",
    "        # loss_G = loss_content + opt[\"lambda_adv\"] * loss_GAN + opt[\"lambda_pixel\"] * loss_pixel\n",
    "        \n",
    "        # Total generator loss (TSRGAN)\n",
    "        # loss_G = loss_texture + opt[\"lambda_pixel\"] * loss_content + opt[\"lambda_adv\"] * loss_GAN + loss_pixel\n",
    "        \n",
    "        # Total generator loss (loss_texture + Original)\n",
    "        loss_G = loss_texture + loss_content + opt[\"lambda_adv\"] * loss_GAN + opt[\"lambda_pixel\"] * loss_pixel\n",
    "        \n",
    "        loss_G.backward()\n",
    "        optimizer_G.step()\n",
    "\n",
    "        # ---------------------\n",
    "        #  Train Discriminator\n",
    "        # ---------------------\n",
    "\n",
    "        optimizer_D.zero_grad()\n",
    "\n",
    "        pred_real = discriminator(imgs_hr)\n",
    "        pred_fake = discriminator(gen_hr.detach())\n",
    "\n",
    "        # Adversarial loss for real and fake images (relativistic average GAN)\n",
    "        loss_real = criterion_GAN(pred_real - pred_fake.mean(0, keepdim=True), valid)\n",
    "        loss_fake = criterion_GAN(pred_fake - pred_real.mean(0, keepdim=True), fake)\n",
    "\n",
    "        # Total loss\n",
    "        loss_D = (loss_real + loss_fake) / 2\n",
    "\n",
    "        loss_D.backward()\n",
    "        optimizer_D.step()\n",
    "\n",
    "        # --------------\n",
    "        #  Log Progress\n",
    "        # --------------\n",
    "\n",
    "        if batches_done % opt[\"sample_interval\"] == 0:\n",
    "            # Save image grid with upsampled inputs and ESRGAN outputs\n",
    "            print(\n",
    "                \"[Epoch {}/{}] [Batch {}/{}] [D loss: {}] [G loss: {}, content: {}, adv: {}, pixel: {}, texture: {}, psnr: {}, ssim: {}]\"\n",
    "                .format(\n",
    "                    epoch,\n",
    "                    opt[\"n_epochs\"],\n",
    "                    i,\n",
    "                    len(train_ds),\n",
    "                    loss_D.item(),\n",
    "                    loss_G.item(),\n",
    "                    loss_content.item(),\n",
    "                    loss_GAN.item(),\n",
    "                    loss_pixel.item(),\n",
    "                    loss_texture.item(),\n",
    "                    psnr,\n",
    "                    ssim\n",
    "                )\n",
    "            )\n",
    "            imgs_lr = nn.functional.interpolate(imgs_lr, scale_factor=4)\n",
    "            img_grid = denormalize(torch.cat((imgs_lr, gen_hr), -1))\n",
    "            save_image(img_grid, \"./images/training/%d.png\" % batches_done, nrow=1, normalize=False)\n",
    "\n",
    "        if batches_done % opt[\"checkpoint_interval\"] == 0:\n",
    "            # Save model checkpoints\n",
    "            torch.save(generator.state_dict(), \"./saved_models/generator_%d.pth\" % epoch)\n",
    "            torch.save(discriminator.state_dict(), \"./saved_models/discriminator_%d.pth\" %epoch)\n",
    "            print(\"./saved_models/generator_%d.pth\" % epoch)"
   ]
  },
  {
   "cell_type": "code",
   "execution_count": null,
   "id": "927c0112",
   "metadata": {
    "execution": {
     "iopub.execute_input": "2022-07-29T16:05:02.820757Z",
     "iopub.status.busy": "2022-07-29T16:05:02.819925Z",
     "iopub.status.idle": "2022-07-29T16:05:02.973054Z",
     "shell.execute_reply": "2022-07-29T16:05:02.973553Z",
     "shell.execute_reply.started": "2022-07-29T10:08:10.882846Z"
    },
    "papermill": {
     "duration": 0.374582,
     "end_time": "2022-07-29T16:05:02.973716",
     "exception": false,
     "start_time": "2022-07-29T16:05:02.599134",
     "status": "completed"
    },
    "tags": []
   },
   "outputs": [],
   "source": [
    "torch.save(generator.state_dict(), \"./saved_models/generator.pth\")\n",
    "torch.save(discriminator.state_dict(), \"./saved_models/discriminator.pth\")\n",
    "print(\"./saved_models/generator.pth\")\n",
    "opt[\"final_generator_pth\"] = \"./saved_models/generator.pth\""
   ]
  },
  {
   "cell_type": "code",
   "execution_count": null,
   "id": "7787341c",
   "metadata": {
    "execution": {
     "iopub.execute_input": "2022-07-29T16:05:03.477374Z",
     "iopub.status.busy": "2022-07-29T16:05:03.476153Z",
     "iopub.status.idle": "2022-07-29T16:05:33.439610Z",
     "shell.execute_reply": "2022-07-29T16:05:33.440080Z",
     "shell.execute_reply.started": "2022-07-28T21:37:55.338509Z"
    },
    "papermill": {
     "duration": 30.185321,
     "end_time": "2022-07-29T16:05:33.440262",
     "exception": false,
     "start_time": "2022-07-29T16:05:03.254941",
     "status": "completed"
    },
    "tags": []
   },
   "outputs": [],
   "source": [
    "PSNR_F = PSNR().cuda()\n",
    "SSIM_F = SSIM().cuda()\n",
    "\n",
    "LPIPS_F = lpips.LPIPS(net='vgg').cuda()"
   ]
  },
  {
   "cell_type": "code",
   "execution_count": null,
   "id": "9c43bd31",
   "metadata": {
    "execution": {
     "iopub.execute_input": "2022-07-29T16:05:33.880690Z",
     "iopub.status.busy": "2022-07-29T16:05:33.879981Z",
     "iopub.status.idle": "2022-07-29T16:05:33.882366Z",
     "shell.execute_reply": "2022-07-29T16:05:33.882845Z",
     "shell.execute_reply.started": "2022-07-28T21:37:55.340304Z"
    },
    "papermill": {
     "duration": 0.225422,
     "end_time": "2022-07-29T16:05:33.882982",
     "exception": false,
     "start_time": "2022-07-29T16:05:33.657560",
     "status": "completed"
    },
    "tags": []
   },
   "outputs": [],
   "source": [
    "from pathlib import Path\n",
    "Path(\"./images/testing\").mkdir(parents=True, exist_ok=True)\n",
    "Path(\"./saved_models\").mkdir(parents=True, exist_ok=True)"
   ]
  },
  {
   "cell_type": "markdown",
   "id": "57a3c0a1",
   "metadata": {
    "execution": {
     "iopub.execute_input": "2022-07-19T07:14:32.167901Z",
     "iopub.status.busy": "2022-07-19T07:14:32.167614Z",
     "iopub.status.idle": "2022-07-19T07:15:27.486415Z",
     "shell.execute_reply": "2022-07-19T07:15:27.485597Z",
     "shell.execute_reply.started": "2022-07-19T07:14:32.167866Z"
    },
    "papermill": {
     "duration": 0.218424,
     "end_time": "2022-07-29T16:05:34.318958",
     "exception": false,
     "start_time": "2022-07-29T16:05:34.100534",
     "status": "completed"
    },
    "tags": []
   },
   "source": [
    "generator = GeneratorRRDB(opt[\"channels\"], filters=64, num_res_blocks=opt[\"residual_blocks\"]).to(device)\n",
    "generator.load_state_dict(torch.load(opt[\"final_generator_pth\"])) # change 10 to max trained epoch\n",
    "generator.eval()\n",
    "\n",
    "transform = transforms.Compose([transforms.ToTensor(), transforms.Normalize(mean, std)])\n",
    "psnr_ls = []\n",
    "ssim_ls = []\n",
    "lpis_ls = []\n",
    "# Prepare input\n",
    "# eval \n",
    "for i, imgs in enumerate(test_ds):\n",
    "    imgs_lr = Variable(imgs[\"lr\"].type(Tensor))\n",
    "    imgs_hr = Variable(imgs[\"hr\"].type(Tensor))\n",
    "    \n",
    "    \n",
    "    start_time = time.time()\n",
    "    with torch.no_grad():\n",
    "        sr_image = generator(imgs_lr).cuda()\n",
    "    print(\"--- %s seconds ---\" % (time.time() - start_time))\n",
    "\n",
    "\n",
    "    \n",
    "    mse = torch.mean((sr_image - imgs_hr) ** 2)\n",
    "    psnr = PSNR_F(sr_image, imgs_hr, 255)\n",
    "    ssim = SSIM_F(sr_image, imgs_hr, 255)\n",
    "    lp = LPIPS_F.forward(sr_image, imgs_hr).flatten()\n",
    "\n",
    "    print(\"[psnr: {}, ssim: {}, lpips: {}]\"\n",
    "            .format(\n",
    "                psnr,\n",
    "                ssim,\n",
    "                lp\n",
    "            )\n",
    "         )\n",
    "    psnr_ls.extend(psnr.tolist())\n",
    "    ssim_ls.extend(ssim.tolist())\n",
    "    lpis_ls.extend(lp.tolist())\n",
    "    \n",
    "    imgs_lr = nn.functional.interpolate(imgs_lr, scale_factor=4)\n",
    "    img_grid = torch.cat((imgs_lr, imgs_hr, sr_image), -1)\n",
    "    save_image(img_grid, \"./images/testing/%d.png\" % i, nrow=1, normalize=False)\n",
    "    \n",
    "    for i, im in enumerate(sr_image):\n",
    "        plt.subplot(3,4, i+1)\n",
    "        plt.imshow(imgs_lr[i].cpu().permute(1, 2, 0))\n",
    "        plt.tick_params(\n",
    "            left = False,\n",
    "            right = False,\n",
    "            labelleft = False ,\n",
    "            labelbottom = False,\n",
    "            bottom = False\n",
    "        )\n",
    "        plt.subplot(3,4, i+1+4)\n",
    "        plt.imshow(imgs_hr[i].cpu().permute(1, 2, 0))\n",
    "        plt.tick_params(\n",
    "            left = False,\n",
    "            right = False,\n",
    "            labelleft = False ,\n",
    "            labelbottom = False,\n",
    "            bottom = False\n",
    "        )\n",
    "        \n",
    "        plt.subplot(3,4, i+1+4+4)\n",
    "        plt.imshow(im.cpu().permute(1, 2, 0))\n",
    "        plt.tick_params(\n",
    "            left = False,\n",
    "            right = False,\n",
    "            labelleft = False ,\n",
    "            labelbottom = False,\n",
    "            bottom = False\n",
    "        )\n",
    "    plt.show()\n",
    "    psnr_arr = np.array(psnr_ls)\n",
    "    print(\"PSNR on DIV2K Test: \",psnr_arr.mean())\n",
    "    ssim_arr = np.array(ssim_ls)\n",
    "    print(\"SSIM on DIV2K Test: \",ssim_arr.mean())\n",
    "    lpips_arr = np.array(lpis_ls)\n",
    "    print(\"LPIPS on DIV2K Test: \",lpips_arr.mean())"
   ]
  },
  {
   "cell_type": "code",
   "execution_count": null,
   "id": "6070a362",
   "metadata": {
    "execution": {
     "iopub.execute_input": "2022-07-29T16:05:34.766261Z",
     "iopub.status.busy": "2022-07-29T16:05:34.765401Z",
     "iopub.status.idle": "2022-07-29T16:05:50.090681Z",
     "shell.execute_reply": "2022-07-29T16:05:50.091243Z",
     "shell.execute_reply.started": "2022-07-28T21:37:55.342475Z"
    },
    "papermill": {
     "duration": 15.554403,
     "end_time": "2022-07-29T16:05:50.091435",
     "exception": false,
     "start_time": "2022-07-29T16:05:34.537032",
     "status": "completed"
    },
    "tags": []
   },
   "outputs": [],
   "source": [
    "generator = GeneratorRRDB(opt[\"channels\"], filters=64, num_res_blocks=opt[\"residual_blocks\"]).to(device)\n",
    "generator.load_state_dict(torch.load(opt[\"final_generator_pth\"])) # change 10 to max trained epoch\n",
    "generator.eval()\n",
    "\n",
    "transform = transforms.Compose([transforms.ToTensor(), transforms.Normalize(mean, std)])\n",
    "psnr_ls = []\n",
    "ssim_ls = []\n",
    "lpis_ls = []\n",
    "time_ls = []\n",
    "\n",
    "for i, imgs in enumerate(set_5_ds):\n",
    "    imgs_lr = Variable(imgs[\"lr\"].type(Tensor))\n",
    "    imgs_hr = Variable(imgs[\"hr\"].type(Tensor))\n",
    "    \n",
    "    start_time = time.time()\n",
    "    with torch.no_grad():\n",
    "        sr_image = generator(imgs_lr).cuda()\n",
    "    time_ls.append(time.time() - start_time)\n",
    "\n",
    "    \n",
    "    mse = torch.mean((sr_image - imgs_hr) ** 2)\n",
    "    psnr = PSNR_F(sr_image, imgs_hr, 255)\n",
    "    ssim = SSIM_F(sr_image, imgs_hr, 255)\n",
    "    lp = LPIPS_F.forward(sr_image, imgs_hr).flatten()\n",
    "    \n",
    "    print(\"[psnr: {}, ssim: {}, lpips: {}]\"\n",
    "            .format(\n",
    "                psnr,\n",
    "                ssim,\n",
    "                lp\n",
    "            )\n",
    "         )\n",
    "    psnr_ls.extend(psnr.tolist())\n",
    "    ssim_ls.extend(ssim.tolist())\n",
    "    lpis_ls.extend(lp.tolist())\n",
    "\n",
    "    \n",
    "    imgs_lr = nn.functional.interpolate(imgs_lr, scale_factor=4)\n",
    "    img_grid = torch.cat((imgs_lr, imgs_hr, sr_image), -1)\n",
    "    save_image(img_grid, \"./images/testing_set5/%d.png\" % i, nrow=1, normalize=False)\n",
    "    plt.figure(figsize=(15,15))\n",
    "    for i, im in enumerate(sr_image):\n",
    "        plt.subplot(5,3, 3*i + 1)\n",
    "        plt.imshow(imgs_lr[i].cpu().permute(1, 2, 0))\n",
    "        plt.tick_params(\n",
    "            left = False,\n",
    "            right = False,\n",
    "            labelleft = False ,\n",
    "            labelbottom = False,\n",
    "            bottom = False\n",
    "        )\n",
    "        plt.subplot(5,3, 3*i + 2)\n",
    "        plt.imshow(imgs_hr[i].cpu().permute(1, 2, 0))\n",
    "        plt.tick_params(\n",
    "            left = False,\n",
    "            right = False,\n",
    "            labelleft = False ,\n",
    "            labelbottom = False,\n",
    "            bottom = False\n",
    "        )\n",
    "        \n",
    "        plt.subplot(5, 3, 3*i+3)\n",
    "        plt.imshow(im.cpu().permute(1, 2, 0))\n",
    "        plt.tick_params(\n",
    "            left = False,\n",
    "            right = False,\n",
    "            labelleft = False ,\n",
    "            labelbottom = False,\n",
    "            bottom = False\n",
    "        )\n",
    "    plt.show()"
   ]
  },
  {
   "cell_type": "code",
   "execution_count": null,
   "id": "67d01c3c",
   "metadata": {
    "execution": {
     "iopub.execute_input": "2022-07-29T16:05:50.591121Z",
     "iopub.status.busy": "2022-07-29T16:05:50.590434Z",
     "iopub.status.idle": "2022-07-29T16:05:50.593932Z",
     "shell.execute_reply": "2022-07-29T16:05:50.594442Z",
     "shell.execute_reply.started": "2022-07-28T21:37:55.344357Z"
    },
    "papermill": {
     "duration": 0.251533,
     "end_time": "2022-07-29T16:05:50.594593",
     "exception": false,
     "start_time": "2022-07-29T16:05:50.343060",
     "status": "completed"
    },
    "tags": []
   },
   "outputs": [],
   "source": [
    "print(time_ls)\n",
    "times = np.array(time_ls)\n",
    "print(\"Total Reconstruction Time on Set5:\", np.sum(times))"
   ]
  },
  {
   "cell_type": "code",
   "execution_count": null,
   "id": "f74fcea2",
   "metadata": {
    "execution": {
     "iopub.execute_input": "2022-07-29T16:05:51.087441Z",
     "iopub.status.busy": "2022-07-29T16:05:51.086676Z",
     "iopub.status.idle": "2022-07-29T16:05:51.089784Z",
     "shell.execute_reply": "2022-07-29T16:05:51.090253Z",
     "shell.execute_reply.started": "2022-07-28T21:37:55.346164Z"
    },
    "papermill": {
     "duration": 0.252042,
     "end_time": "2022-07-29T16:05:51.090400",
     "exception": false,
     "start_time": "2022-07-29T16:05:50.838358",
     "status": "completed"
    },
    "tags": []
   },
   "outputs": [],
   "source": [
    "ssim_arr = np.array(ssim_ls)\n",
    "print(ssim_arr)\n",
    "print(\"SSIM on Set5 Test: \",ssim_arr.mean())"
   ]
  },
  {
   "cell_type": "code",
   "execution_count": null,
   "id": "7e5f9b59",
   "metadata": {
    "execution": {
     "iopub.execute_input": "2022-07-29T16:05:51.579389Z",
     "iopub.status.busy": "2022-07-29T16:05:51.577785Z",
     "iopub.status.idle": "2022-07-29T16:05:51.581654Z",
     "shell.execute_reply": "2022-07-29T16:05:51.581132Z",
     "shell.execute_reply.started": "2022-07-28T21:37:55.347907Z"
    },
    "papermill": {
     "duration": 0.250972,
     "end_time": "2022-07-29T16:05:51.581770",
     "exception": false,
     "start_time": "2022-07-29T16:05:51.330798",
     "status": "completed"
    },
    "tags": []
   },
   "outputs": [],
   "source": [
    "psnr_arr = np.array(psnr_ls)\n",
    "print(psnr_arr)\n",
    "print(\"PSNR on Set5 Test: \",psnr_arr.mean())"
   ]
  },
  {
   "cell_type": "code",
   "execution_count": null,
   "id": "09bcd586",
   "metadata": {
    "execution": {
     "iopub.execute_input": "2022-07-29T16:05:52.079250Z",
     "iopub.status.busy": "2022-07-29T16:05:52.078236Z",
     "iopub.status.idle": "2022-07-29T16:05:52.081384Z",
     "shell.execute_reply": "2022-07-29T16:05:52.081856Z",
     "shell.execute_reply.started": "2022-07-28T21:37:55.349648Z"
    },
    "papermill": {
     "duration": 0.253651,
     "end_time": "2022-07-29T16:05:52.081991",
     "exception": false,
     "start_time": "2022-07-29T16:05:51.828340",
     "status": "completed"
    },
    "tags": []
   },
   "outputs": [],
   "source": [
    "lpips_arr = np.array(lpis_ls)\n",
    "print(lpips_arr)\n",
    "print(\"LPIPS on Set5 Test: \", lpips_arr.mean())"
   ]
  },
  {
   "cell_type": "code",
   "execution_count": null,
   "id": "4777c13d",
   "metadata": {
    "execution": {
     "iopub.execute_input": "2022-07-29T16:05:52.577744Z",
     "iopub.status.busy": "2022-07-29T16:05:52.568807Z",
     "iopub.status.idle": "2022-07-29T16:06:28.275198Z",
     "shell.execute_reply": "2022-07-29T16:06:28.274626Z",
     "shell.execute_reply.started": "2022-07-28T21:37:55.351435Z"
    },
    "papermill": {
     "duration": 35.955327,
     "end_time": "2022-07-29T16:06:28.275364",
     "exception": false,
     "start_time": "2022-07-29T16:05:52.320037",
     "status": "completed"
    },
    "tags": []
   },
   "outputs": [],
   "source": [
    "generator = GeneratorRRDB(opt[\"channels\"], filters=64, num_res_blocks=opt[\"residual_blocks\"]).to(device)\n",
    "generator.load_state_dict(torch.load(opt[\"final_generator_pth\"])) # change 10 to max trained epoch\n",
    "generator.eval()\n",
    "\n",
    "transform = transforms.Compose([transforms.ToTensor(), transforms.Normalize(mean, std)])\n",
    "psnr_ls = []\n",
    "ssim_ls = []\n",
    "lpis_ls = []\n",
    "time_ls = []\n",
    "\n",
    "for i, imgs in enumerate(set_14_ds):\n",
    "    imgs_lr = Variable(imgs[\"lr\"].type(Tensor))\n",
    "    imgs_hr = Variable(imgs[\"hr\"].type(Tensor))\n",
    "    \n",
    "    start_time = time.time()\n",
    "    with torch.no_grad():\n",
    "        sr_image = generator(imgs_lr).cuda()\n",
    "    time_ls.append(time.time() - start_time)\n",
    "\n",
    "    \n",
    "    mse = torch.mean((sr_image - imgs_hr) ** 2)\n",
    "    psnr = PSNR_F(sr_image, imgs_hr, 255)\n",
    "    ssim = SSIM_F(sr_image, imgs_hr, 255)\n",
    "    lp = LPIPS_F.forward(sr_image, imgs_hr).flatten()\n",
    "    \n",
    "    print(\"[psnr: {}, ssim: {}, lpips: {}]\"\n",
    "            .format(\n",
    "                psnr,\n",
    "                ssim,\n",
    "                lp\n",
    "            )\n",
    "         )\n",
    "    psnr_ls.extend(psnr.tolist())\n",
    "    ssim_ls.extend(ssim.tolist())\n",
    "    lpis_ls.extend(lp.tolist())\n",
    "\n",
    "    \n",
    "    imgs_lr = nn.functional.interpolate(imgs_lr, scale_factor=4)\n",
    "    img_grid = torch.cat((imgs_lr, imgs_hr, sr_image), -1)\n",
    "    save_image(img_grid, \"./images/testing_set14/%d.png\" % i, nrow=1, normalize=False)\n",
    "    plt.figure(figsize=(15,15))\n",
    "    for i, im in enumerate(sr_image):\n",
    "        plt.subplot(5,3, 3*i + 1)\n",
    "        plt.imshow(imgs_lr[i].cpu().permute(1, 2, 0))\n",
    "        plt.tick_params(\n",
    "            left = False,\n",
    "            right = False,\n",
    "            labelleft = False ,\n",
    "            labelbottom = False,\n",
    "            bottom = False\n",
    "        )\n",
    "        plt.subplot(5,3, 3*i + 2)\n",
    "        plt.imshow(imgs_hr[i].cpu().permute(1, 2, 0))\n",
    "        plt.tick_params(\n",
    "            left = False,\n",
    "            right = False,\n",
    "            labelleft = False ,\n",
    "            labelbottom = False,\n",
    "            bottom = False\n",
    "        )\n",
    "        \n",
    "        plt.subplot(5, 3, 3*i+3)\n",
    "        plt.imshow(im.cpu().permute(1, 2, 0))\n",
    "        plt.tick_params(\n",
    "            left = False,\n",
    "            right = False,\n",
    "            labelleft = False ,\n",
    "            labelbottom = False,\n",
    "            bottom = False\n",
    "        )\n",
    "    plt.show()"
   ]
  },
  {
   "cell_type": "code",
   "execution_count": null,
   "id": "64cdd362",
   "metadata": {
    "execution": {
     "iopub.execute_input": "2022-07-29T16:06:28.900757Z",
     "iopub.status.busy": "2022-07-29T16:06:28.899865Z",
     "iopub.status.idle": "2022-07-29T16:06:28.903252Z",
     "shell.execute_reply": "2022-07-29T16:06:28.903787Z",
     "shell.execute_reply.started": "2022-07-28T21:37:55.353173Z"
    },
    "papermill": {
     "duration": 0.334915,
     "end_time": "2022-07-29T16:06:28.903952",
     "exception": false,
     "start_time": "2022-07-29T16:06:28.569037",
     "status": "completed"
    },
    "tags": []
   },
   "outputs": [],
   "source": [
    "print(time_ls)\n",
    "times = np.array(time_ls)\n",
    "print(\"Total Reconstruction Time on Set14:\", np.sum(times))"
   ]
  },
  {
   "cell_type": "code",
   "execution_count": null,
   "id": "13d3c08d",
   "metadata": {
    "execution": {
     "iopub.execute_input": "2022-07-29T16:06:29.500588Z",
     "iopub.status.busy": "2022-07-29T16:06:29.498892Z",
     "iopub.status.idle": "2022-07-29T16:06:29.502962Z",
     "shell.execute_reply": "2022-07-29T16:06:29.502437Z",
     "shell.execute_reply.started": "2022-07-28T21:37:55.354926Z"
    },
    "papermill": {
     "duration": 0.301986,
     "end_time": "2022-07-29T16:06:29.503085",
     "exception": false,
     "start_time": "2022-07-29T16:06:29.201099",
     "status": "completed"
    },
    "tags": []
   },
   "outputs": [],
   "source": [
    "ssim_arr = np.array(ssim_ls)\n",
    "print(ssim_arr)\n",
    "print(\"SSIM on Set14 Test: \",ssim_arr.mean())"
   ]
  },
  {
   "cell_type": "code",
   "execution_count": null,
   "id": "4e4d1ea8",
   "metadata": {
    "execution": {
     "iopub.execute_input": "2022-07-29T16:06:30.091939Z",
     "iopub.status.busy": "2022-07-29T16:06:30.091279Z",
     "iopub.status.idle": "2022-07-29T16:06:30.094183Z",
     "shell.execute_reply": "2022-07-29T16:06:30.094651Z",
     "shell.execute_reply.started": "2022-07-28T21:37:55.356712Z"
    },
    "papermill": {
     "duration": 0.301353,
     "end_time": "2022-07-29T16:06:30.094794",
     "exception": false,
     "start_time": "2022-07-29T16:06:29.793441",
     "status": "completed"
    },
    "tags": []
   },
   "outputs": [],
   "source": [
    "psnr_arr = np.array(psnr_ls)\n",
    "print(psnr_arr)\n",
    "print(\"PSNR on Set14 Test: \",psnr_arr.mean())"
   ]
  },
  {
   "cell_type": "code",
   "execution_count": null,
   "id": "81e82162",
   "metadata": {
    "execution": {
     "iopub.execute_input": "2022-07-29T16:06:30.692256Z",
     "iopub.status.busy": "2022-07-29T16:06:30.691511Z",
     "iopub.status.idle": "2022-07-29T16:06:30.694473Z",
     "shell.execute_reply": "2022-07-29T16:06:30.694937Z",
     "shell.execute_reply.started": "2022-07-28T21:37:55.358681Z"
    },
    "papermill": {
     "duration": 0.302581,
     "end_time": "2022-07-29T16:06:30.695082",
     "exception": false,
     "start_time": "2022-07-29T16:06:30.392501",
     "status": "completed"
    },
    "tags": []
   },
   "outputs": [],
   "source": [
    "lpips_arr = np.array(lpis_ls)\n",
    "print(lpips_arr)\n",
    "print(\"LPIPS on Set14 Test: \",lpips_arr.mean())"
   ]
  },
  {
   "cell_type": "code",
   "execution_count": null,
   "id": "f13e2c7f",
   "metadata": {
    "execution": {
     "iopub.execute_input": "2022-07-29T16:06:31.286447Z",
     "iopub.status.busy": "2022-07-29T16:06:31.285615Z",
     "iopub.status.idle": "2022-07-29T16:06:33.025373Z",
     "shell.execute_reply": "2022-07-29T16:06:33.024858Z",
     "shell.execute_reply.started": "2022-07-28T21:37:55.360407Z"
    },
    "papermill": {
     "duration": 2.039551,
     "end_time": "2022-07-29T16:06:33.025515",
     "exception": false,
     "start_time": "2022-07-29T16:06:30.985964",
     "status": "completed"
    },
    "tags": []
   },
   "outputs": [],
   "source": [
    "!zip -r testing_set14.zip ./images/testing_set14"
   ]
  },
  {
   "cell_type": "code",
   "execution_count": null,
   "id": "52418126",
   "metadata": {
    "execution": {
     "iopub.execute_input": "2022-07-29T16:06:33.626531Z",
     "iopub.status.busy": "2022-07-29T16:06:33.625783Z",
     "iopub.status.idle": "2022-07-29T16:06:34.639746Z",
     "shell.execute_reply": "2022-07-29T16:06:34.639266Z",
     "shell.execute_reply.started": "2022-07-28T21:37:55.362177Z"
    },
    "papermill": {
     "duration": 1.317471,
     "end_time": "2022-07-29T16:06:34.639876",
     "exception": false,
     "start_time": "2022-07-29T16:06:33.322405",
     "status": "completed"
    },
    "tags": []
   },
   "outputs": [],
   "source": [
    "!zip -r testing_set5.zip ./images/testing_set5"
   ]
  },
  {
   "cell_type": "code",
   "execution_count": null,
   "id": "a3e00988",
   "metadata": {
    "execution": {
     "iopub.execute_input": "2022-07-29T16:06:35.247271Z",
     "iopub.status.busy": "2022-07-29T16:06:35.246521Z",
     "iopub.status.idle": "2022-07-29T16:06:36.748199Z",
     "shell.execute_reply": "2022-07-29T16:06:36.747668Z",
     "shell.execute_reply.started": "2022-07-28T21:37:55.363957Z"
    },
    "papermill": {
     "duration": 1.807226,
     "end_time": "2022-07-29T16:06:36.748337",
     "exception": false,
     "start_time": "2022-07-29T16:06:34.941111",
     "status": "completed"
    },
    "tags": []
   },
   "outputs": [],
   "source": [
    "!zip -r training.zip ./images/training"
   ]
  },
  {
   "cell_type": "code",
   "execution_count": null,
   "id": "93cd7068",
   "metadata": {
    "execution": {
     "iopub.execute_input": "2022-07-29T16:06:37.403522Z",
     "iopub.status.busy": "2022-07-29T16:06:37.373076Z",
     "iopub.status.idle": "2022-07-29T16:06:44.920450Z",
     "shell.execute_reply": "2022-07-29T16:06:44.919902Z",
     "shell.execute_reply.started": "2022-07-28T21:35:08.778281Z"
    },
    "papermill": {
     "duration": 7.859761,
     "end_time": "2022-07-29T16:06:44.920604",
     "exception": false,
     "start_time": "2022-07-29T16:06:37.060843",
     "status": "completed"
    },
    "tags": []
   },
   "outputs": [],
   "source": [
    "!zip -r models.zip ./saved_models"
   ]
  },
  {
   "cell_type": "code",
   "execution_count": null,
   "id": "32984749",
   "metadata": {
    "papermill": {
     "duration": 0.307871,
     "end_time": "2022-07-29T16:06:45.538841",
     "exception": false,
     "start_time": "2022-07-29T16:06:45.230970",
     "status": "completed"
    },
    "tags": []
   },
   "outputs": [],
   "source": []
  }
 ],
 "metadata": {
  "kernelspec": {
   "display_name": "Python 3 (ipykernel)",
   "language": "python",
   "name": "python3"
  },
  "language_info": {
   "codemirror_mode": {
    "name": "ipython",
    "version": 3
   },
   "file_extension": ".py",
   "mimetype": "text/x-python",
   "name": "python",
   "nbconvert_exporter": "python",
   "pygments_lexer": "ipython3",
   "version": "3.8.2"
  },
  "papermill": {
   "default_parameters": {},
   "duration": 4867.594666,
   "end_time": "2022-07-29T16:06:47.472002",
   "environment_variables": {},
   "exception": null,
   "input_path": "__notebook__.ipynb",
   "output_path": "__notebook__.ipynb",
   "parameters": {},
   "start_time": "2022-07-29T14:45:39.877336",
   "version": "2.3.3"
  },
  "widgets": {
   "application/vnd.jupyter.widget-state+json": {
    "state": {
     "0af504510df643f8bb1d4913755bc52f": {
      "model_module": "@jupyter-widgets/controls",
      "model_module_version": "1.5.0",
      "model_name": "DescriptionStyleModel",
      "state": {
       "_model_module": "@jupyter-widgets/controls",
       "_model_module_version": "1.5.0",
       "_model_name": "DescriptionStyleModel",
       "_view_count": null,
       "_view_module": "@jupyter-widgets/base",
       "_view_module_version": "1.2.0",
       "_view_name": "StyleView",
       "description_width": ""
      }
     },
     "0f745fc33ee944a285055449f2ae8d45": {
      "model_module": "@jupyter-widgets/controls",
      "model_module_version": "1.5.0",
      "model_name": "FloatProgressModel",
      "state": {
       "_dom_classes": [],
       "_model_module": "@jupyter-widgets/controls",
       "_model_module_version": "1.5.0",
       "_model_name": "FloatProgressModel",
       "_view_count": null,
       "_view_module": "@jupyter-widgets/controls",
       "_view_module_version": "1.5.0",
       "_view_name": "ProgressView",
       "bar_style": "success",
       "description": "",
       "description_tooltip": null,
       "layout": "IPY_MODEL_6bdb19d25db24e2f9aa42b5a863677ea",
       "max": 553433881,
       "min": 0,
       "orientation": "horizontal",
       "style": "IPY_MODEL_86a4909335bf47228c21d1b335c66d32",
       "value": 553433881
      }
     },
     "1bb63567e6534fdfbdfb88453dd59da7": {
      "model_module": "@jupyter-widgets/controls",
      "model_module_version": "1.5.0",
      "model_name": "HTMLModel",
      "state": {
       "_dom_classes": [],
       "_model_module": "@jupyter-widgets/controls",
       "_model_module_version": "1.5.0",
       "_model_name": "HTMLModel",
       "_view_count": null,
       "_view_module": "@jupyter-widgets/controls",
       "_view_module_version": "1.5.0",
       "_view_name": "HTMLView",
       "description": "",
       "description_tooltip": null,
       "layout": "IPY_MODEL_1cdef9c809a74db99ddd6aa5aeed22a6",
       "placeholder": "​",
       "style": "IPY_MODEL_0af504510df643f8bb1d4913755bc52f",
       "value": " 548M/548M [00:28&lt;00:00, 21.7MB/s]"
      }
     },
     "1cdef9c809a74db99ddd6aa5aeed22a6": {
      "model_module": "@jupyter-widgets/base",
      "model_module_version": "1.2.0",
      "model_name": "LayoutModel",
      "state": {
       "_model_module": "@jupyter-widgets/base",
       "_model_module_version": "1.2.0",
       "_model_name": "LayoutModel",
       "_view_count": null,
       "_view_module": "@jupyter-widgets/base",
       "_view_module_version": "1.2.0",
       "_view_name": "LayoutView",
       "align_content": null,
       "align_items": null,
       "align_self": null,
       "border": null,
       "bottom": null,
       "display": null,
       "flex": null,
       "flex_flow": null,
       "grid_area": null,
       "grid_auto_columns": null,
       "grid_auto_flow": null,
       "grid_auto_rows": null,
       "grid_column": null,
       "grid_gap": null,
       "grid_row": null,
       "grid_template_areas": null,
       "grid_template_columns": null,
       "grid_template_rows": null,
       "height": null,
       "justify_content": null,
       "justify_items": null,
       "left": null,
       "margin": null,
       "max_height": null,
       "max_width": null,
       "min_height": null,
       "min_width": null,
       "object_fit": null,
       "object_position": null,
       "order": null,
       "overflow": null,
       "overflow_x": null,
       "overflow_y": null,
       "padding": null,
       "right": null,
       "top": null,
       "visibility": null,
       "width": null
      }
     },
     "2029d9538b7a472ead6af7e1b308be05": {
      "model_module": "@jupyter-widgets/base",
      "model_module_version": "1.2.0",
      "model_name": "LayoutModel",
      "state": {
       "_model_module": "@jupyter-widgets/base",
       "_model_module_version": "1.2.0",
       "_model_name": "LayoutModel",
       "_view_count": null,
       "_view_module": "@jupyter-widgets/base",
       "_view_module_version": "1.2.0",
       "_view_name": "LayoutView",
       "align_content": null,
       "align_items": null,
       "align_self": null,
       "border": null,
       "bottom": null,
       "display": null,
       "flex": null,
       "flex_flow": null,
       "grid_area": null,
       "grid_auto_columns": null,
       "grid_auto_flow": null,
       "grid_auto_rows": null,
       "grid_column": null,
       "grid_gap": null,
       "grid_row": null,
       "grid_template_areas": null,
       "grid_template_columns": null,
       "grid_template_rows": null,
       "height": null,
       "justify_content": null,
       "justify_items": null,
       "left": null,
       "margin": null,
       "max_height": null,
       "max_width": null,
       "min_height": null,
       "min_width": null,
       "object_fit": null,
       "object_position": null,
       "order": null,
       "overflow": null,
       "overflow_x": null,
       "overflow_y": null,
       "padding": null,
       "right": null,
       "top": null,
       "visibility": null,
       "width": null
      }
     },
     "310ffa6e464e458d94998892797fc556": {
      "model_module": "@jupyter-widgets/controls",
      "model_module_version": "1.5.0",
      "model_name": "HTMLModel",
      "state": {
       "_dom_classes": [],
       "_model_module": "@jupyter-widgets/controls",
       "_model_module_version": "1.5.0",
       "_model_name": "HTMLModel",
       "_view_count": null,
       "_view_module": "@jupyter-widgets/controls",
       "_view_module_version": "1.5.0",
       "_view_name": "HTMLView",
       "description": "",
       "description_tooltip": null,
       "layout": "IPY_MODEL_4e8bad0ed2ab421ebba003e41a29b6f5",
       "placeholder": "​",
       "style": "IPY_MODEL_a25a2961986b4db4a528a40dded57aa0",
       "value": "100%"
      }
     },
     "3c27707caf554be5b4f205d348871779": {
      "model_module": "@jupyter-widgets/base",
      "model_module_version": "1.2.0",
      "model_name": "LayoutModel",
      "state": {
       "_model_module": "@jupyter-widgets/base",
       "_model_module_version": "1.2.0",
       "_model_name": "LayoutModel",
       "_view_count": null,
       "_view_module": "@jupyter-widgets/base",
       "_view_module_version": "1.2.0",
       "_view_name": "LayoutView",
       "align_content": null,
       "align_items": null,
       "align_self": null,
       "border": null,
       "bottom": null,
       "display": null,
       "flex": null,
       "flex_flow": null,
       "grid_area": null,
       "grid_auto_columns": null,
       "grid_auto_flow": null,
       "grid_auto_rows": null,
       "grid_column": null,
       "grid_gap": null,
       "grid_row": null,
       "grid_template_areas": null,
       "grid_template_columns": null,
       "grid_template_rows": null,
       "height": null,
       "justify_content": null,
       "justify_items": null,
       "left": null,
       "margin": null,
       "max_height": null,
       "max_width": null,
       "min_height": null,
       "min_width": null,
       "object_fit": null,
       "object_position": null,
       "order": null,
       "overflow": null,
       "overflow_x": null,
       "overflow_y": null,
       "padding": null,
       "right": null,
       "top": null,
       "visibility": null,
       "width": null
      }
     },
     "491736433be74d71838ed8708d0349f0": {
      "model_module": "@jupyter-widgets/base",
      "model_module_version": "1.2.0",
      "model_name": "LayoutModel",
      "state": {
       "_model_module": "@jupyter-widgets/base",
       "_model_module_version": "1.2.0",
       "_model_name": "LayoutModel",
       "_view_count": null,
       "_view_module": "@jupyter-widgets/base",
       "_view_module_version": "1.2.0",
       "_view_name": "LayoutView",
       "align_content": null,
       "align_items": null,
       "align_self": null,
       "border": null,
       "bottom": null,
       "display": null,
       "flex": null,
       "flex_flow": null,
       "grid_area": null,
       "grid_auto_columns": null,
       "grid_auto_flow": null,
       "grid_auto_rows": null,
       "grid_column": null,
       "grid_gap": null,
       "grid_row": null,
       "grid_template_areas": null,
       "grid_template_columns": null,
       "grid_template_rows": null,
       "height": null,
       "justify_content": null,
       "justify_items": null,
       "left": null,
       "margin": null,
       "max_height": null,
       "max_width": null,
       "min_height": null,
       "min_width": null,
       "object_fit": null,
       "object_position": null,
       "order": null,
       "overflow": null,
       "overflow_x": null,
       "overflow_y": null,
       "padding": null,
       "right": null,
       "top": null,
       "visibility": null,
       "width": null
      }
     },
     "4956c170becf4e669d044d639138cff3": {
      "model_module": "@jupyter-widgets/base",
      "model_module_version": "1.2.0",
      "model_name": "LayoutModel",
      "state": {
       "_model_module": "@jupyter-widgets/base",
       "_model_module_version": "1.2.0",
       "_model_name": "LayoutModel",
       "_view_count": null,
       "_view_module": "@jupyter-widgets/base",
       "_view_module_version": "1.2.0",
       "_view_name": "LayoutView",
       "align_content": null,
       "align_items": null,
       "align_self": null,
       "border": null,
       "bottom": null,
       "display": null,
       "flex": null,
       "flex_flow": null,
       "grid_area": null,
       "grid_auto_columns": null,
       "grid_auto_flow": null,
       "grid_auto_rows": null,
       "grid_column": null,
       "grid_gap": null,
       "grid_row": null,
       "grid_template_areas": null,
       "grid_template_columns": null,
       "grid_template_rows": null,
       "height": null,
       "justify_content": null,
       "justify_items": null,
       "left": null,
       "margin": null,
       "max_height": null,
       "max_width": null,
       "min_height": null,
       "min_width": null,
       "object_fit": null,
       "object_position": null,
       "order": null,
       "overflow": null,
       "overflow_x": null,
       "overflow_y": null,
       "padding": null,
       "right": null,
       "top": null,
       "visibility": null,
       "width": null
      }
     },
     "4e8bad0ed2ab421ebba003e41a29b6f5": {
      "model_module": "@jupyter-widgets/base",
      "model_module_version": "1.2.0",
      "model_name": "LayoutModel",
      "state": {
       "_model_module": "@jupyter-widgets/base",
       "_model_module_version": "1.2.0",
       "_model_name": "LayoutModel",
       "_view_count": null,
       "_view_module": "@jupyter-widgets/base",
       "_view_module_version": "1.2.0",
       "_view_name": "LayoutView",
       "align_content": null,
       "align_items": null,
       "align_self": null,
       "border": null,
       "bottom": null,
       "display": null,
       "flex": null,
       "flex_flow": null,
       "grid_area": null,
       "grid_auto_columns": null,
       "grid_auto_flow": null,
       "grid_auto_rows": null,
       "grid_column": null,
       "grid_gap": null,
       "grid_row": null,
       "grid_template_areas": null,
       "grid_template_columns": null,
       "grid_template_rows": null,
       "height": null,
       "justify_content": null,
       "justify_items": null,
       "left": null,
       "margin": null,
       "max_height": null,
       "max_width": null,
       "min_height": null,
       "min_width": null,
       "object_fit": null,
       "object_position": null,
       "order": null,
       "overflow": null,
       "overflow_x": null,
       "overflow_y": null,
       "padding": null,
       "right": null,
       "top": null,
       "visibility": null,
       "width": null
      }
     },
     "5976d35d83a246dc94c1fb7db0c80f3e": {
      "model_module": "@jupyter-widgets/controls",
      "model_module_version": "1.5.0",
      "model_name": "HTMLModel",
      "state": {
       "_dom_classes": [],
       "_model_module": "@jupyter-widgets/controls",
       "_model_module_version": "1.5.0",
       "_model_name": "HTMLModel",
       "_view_count": null,
       "_view_module": "@jupyter-widgets/controls",
       "_view_module_version": "1.5.0",
       "_view_name": "HTMLView",
       "description": "",
       "description_tooltip": null,
       "layout": "IPY_MODEL_4956c170becf4e669d044d639138cff3",
       "placeholder": "​",
       "style": "IPY_MODEL_9201054993324704bc5378110f9423e1",
       "value": " 528M/528M [00:27&lt;00:00, 22.0MB/s]"
      }
     },
     "6bdb19d25db24e2f9aa42b5a863677ea": {
      "model_module": "@jupyter-widgets/base",
      "model_module_version": "1.2.0",
      "model_name": "LayoutModel",
      "state": {
       "_model_module": "@jupyter-widgets/base",
       "_model_module_version": "1.2.0",
       "_model_name": "LayoutModel",
       "_view_count": null,
       "_view_module": "@jupyter-widgets/base",
       "_view_module_version": "1.2.0",
       "_view_name": "LayoutView",
       "align_content": null,
       "align_items": null,
       "align_self": null,
       "border": null,
       "bottom": null,
       "display": null,
       "flex": null,
       "flex_flow": null,
       "grid_area": null,
       "grid_auto_columns": null,
       "grid_auto_flow": null,
       "grid_auto_rows": null,
       "grid_column": null,
       "grid_gap": null,
       "grid_row": null,
       "grid_template_areas": null,
       "grid_template_columns": null,
       "grid_template_rows": null,
       "height": null,
       "justify_content": null,
       "justify_items": null,
       "left": null,
       "margin": null,
       "max_height": null,
       "max_width": null,
       "min_height": null,
       "min_width": null,
       "object_fit": null,
       "object_position": null,
       "order": null,
       "overflow": null,
       "overflow_x": null,
       "overflow_y": null,
       "padding": null,
       "right": null,
       "top": null,
       "visibility": null,
       "width": null
      }
     },
     "86a4909335bf47228c21d1b335c66d32": {
      "model_module": "@jupyter-widgets/controls",
      "model_module_version": "1.5.0",
      "model_name": "ProgressStyleModel",
      "state": {
       "_model_module": "@jupyter-widgets/controls",
       "_model_module_version": "1.5.0",
       "_model_name": "ProgressStyleModel",
       "_view_count": null,
       "_view_module": "@jupyter-widgets/base",
       "_view_module_version": "1.2.0",
       "_view_name": "StyleView",
       "bar_color": null,
       "description_width": ""
      }
     },
     "8e55398e05ab4ab0b4c926424f0bee72": {
      "model_module": "@jupyter-widgets/controls",
      "model_module_version": "1.5.0",
      "model_name": "ProgressStyleModel",
      "state": {
       "_model_module": "@jupyter-widgets/controls",
       "_model_module_version": "1.5.0",
       "_model_name": "ProgressStyleModel",
       "_view_count": null,
       "_view_module": "@jupyter-widgets/base",
       "_view_module_version": "1.2.0",
       "_view_name": "StyleView",
       "bar_color": null,
       "description_width": ""
      }
     },
     "9201054993324704bc5378110f9423e1": {
      "model_module": "@jupyter-widgets/controls",
      "model_module_version": "1.5.0",
      "model_name": "DescriptionStyleModel",
      "state": {
       "_model_module": "@jupyter-widgets/controls",
       "_model_module_version": "1.5.0",
       "_model_name": "DescriptionStyleModel",
       "_view_count": null,
       "_view_module": "@jupyter-widgets/base",
       "_view_module_version": "1.2.0",
       "_view_name": "StyleView",
       "description_width": ""
      }
     },
     "a25a2961986b4db4a528a40dded57aa0": {
      "model_module": "@jupyter-widgets/controls",
      "model_module_version": "1.5.0",
      "model_name": "DescriptionStyleModel",
      "state": {
       "_model_module": "@jupyter-widgets/controls",
       "_model_module_version": "1.5.0",
       "_model_name": "DescriptionStyleModel",
       "_view_count": null,
       "_view_module": "@jupyter-widgets/base",
       "_view_module_version": "1.2.0",
       "_view_name": "StyleView",
       "description_width": ""
      }
     },
     "a287196c30ce4f09a146cc9e7481c0ca": {
      "model_module": "@jupyter-widgets/controls",
      "model_module_version": "1.5.0",
      "model_name": "FloatProgressModel",
      "state": {
       "_dom_classes": [],
       "_model_module": "@jupyter-widgets/controls",
       "_model_module_version": "1.5.0",
       "_model_name": "FloatProgressModel",
       "_view_count": null,
       "_view_module": "@jupyter-widgets/controls",
       "_view_module_version": "1.5.0",
       "_view_name": "ProgressView",
       "bar_style": "success",
       "description": "",
       "description_tooltip": null,
       "layout": "IPY_MODEL_c526ade1c7bb4832add00fdb65a1b3f1",
       "max": 574673361,
       "min": 0,
       "orientation": "horizontal",
       "style": "IPY_MODEL_8e55398e05ab4ab0b4c926424f0bee72",
       "value": 574673361
      }
     },
     "b65e654c3cc74b49b617b17a44accd35": {
      "model_module": "@jupyter-widgets/controls",
      "model_module_version": "1.5.0",
      "model_name": "HTMLModel",
      "state": {
       "_dom_classes": [],
       "_model_module": "@jupyter-widgets/controls",
       "_model_module_version": "1.5.0",
       "_model_name": "HTMLModel",
       "_view_count": null,
       "_view_module": "@jupyter-widgets/controls",
       "_view_module_version": "1.5.0",
       "_view_name": "HTMLView",
       "description": "",
       "description_tooltip": null,
       "layout": "IPY_MODEL_491736433be74d71838ed8708d0349f0",
       "placeholder": "​",
       "style": "IPY_MODEL_b90837d1e32948418fa41176279be119",
       "value": "100%"
      }
     },
     "b90837d1e32948418fa41176279be119": {
      "model_module": "@jupyter-widgets/controls",
      "model_module_version": "1.5.0",
      "model_name": "DescriptionStyleModel",
      "state": {
       "_model_module": "@jupyter-widgets/controls",
       "_model_module_version": "1.5.0",
       "_model_name": "DescriptionStyleModel",
       "_view_count": null,
       "_view_module": "@jupyter-widgets/base",
       "_view_module_version": "1.2.0",
       "_view_name": "StyleView",
       "description_width": ""
      }
     },
     "c526ade1c7bb4832add00fdb65a1b3f1": {
      "model_module": "@jupyter-widgets/base",
      "model_module_version": "1.2.0",
      "model_name": "LayoutModel",
      "state": {
       "_model_module": "@jupyter-widgets/base",
       "_model_module_version": "1.2.0",
       "_model_name": "LayoutModel",
       "_view_count": null,
       "_view_module": "@jupyter-widgets/base",
       "_view_module_version": "1.2.0",
       "_view_name": "LayoutView",
       "align_content": null,
       "align_items": null,
       "align_self": null,
       "border": null,
       "bottom": null,
       "display": null,
       "flex": null,
       "flex_flow": null,
       "grid_area": null,
       "grid_auto_columns": null,
       "grid_auto_flow": null,
       "grid_auto_rows": null,
       "grid_column": null,
       "grid_gap": null,
       "grid_row": null,
       "grid_template_areas": null,
       "grid_template_columns": null,
       "grid_template_rows": null,
       "height": null,
       "justify_content": null,
       "justify_items": null,
       "left": null,
       "margin": null,
       "max_height": null,
       "max_width": null,
       "min_height": null,
       "min_width": null,
       "object_fit": null,
       "object_position": null,
       "order": null,
       "overflow": null,
       "overflow_x": null,
       "overflow_y": null,
       "padding": null,
       "right": null,
       "top": null,
       "visibility": null,
       "width": null
      }
     },
     "efd4cbff435a498d8fbee48d50fd4fed": {
      "model_module": "@jupyter-widgets/controls",
      "model_module_version": "1.5.0",
      "model_name": "HBoxModel",
      "state": {
       "_dom_classes": [],
       "_model_module": "@jupyter-widgets/controls",
       "_model_module_version": "1.5.0",
       "_model_name": "HBoxModel",
       "_view_count": null,
       "_view_module": "@jupyter-widgets/controls",
       "_view_module_version": "1.5.0",
       "_view_name": "HBoxView",
       "box_style": "",
       "children": [
        "IPY_MODEL_b65e654c3cc74b49b617b17a44accd35",
        "IPY_MODEL_a287196c30ce4f09a146cc9e7481c0ca",
        "IPY_MODEL_1bb63567e6534fdfbdfb88453dd59da7"
       ],
       "layout": "IPY_MODEL_2029d9538b7a472ead6af7e1b308be05"
      }
     },
     "f3d328235f7b419393bdba5643580622": {
      "model_module": "@jupyter-widgets/controls",
      "model_module_version": "1.5.0",
      "model_name": "HBoxModel",
      "state": {
       "_dom_classes": [],
       "_model_module": "@jupyter-widgets/controls",
       "_model_module_version": "1.5.0",
       "_model_name": "HBoxModel",
       "_view_count": null,
       "_view_module": "@jupyter-widgets/controls",
       "_view_module_version": "1.5.0",
       "_view_name": "HBoxView",
       "box_style": "",
       "children": [
        "IPY_MODEL_310ffa6e464e458d94998892797fc556",
        "IPY_MODEL_0f745fc33ee944a285055449f2ae8d45",
        "IPY_MODEL_5976d35d83a246dc94c1fb7db0c80f3e"
       ],
       "layout": "IPY_MODEL_3c27707caf554be5b4f205d348871779"
      }
     }
    },
    "version_major": 2,
    "version_minor": 0
   }
  }
 },
 "nbformat": 4,
 "nbformat_minor": 5
}
